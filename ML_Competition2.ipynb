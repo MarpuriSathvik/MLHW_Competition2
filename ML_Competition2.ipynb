{
  "metadata": {
    "kernelspec": {
      "language": "python",
      "display_name": "Python 3",
      "name": "python3"
    },
    "language_info": {
      "name": "python",
      "version": "3.7.12",
      "mimetype": "text/x-python",
      "codemirror_mode": {
        "name": "ipython",
        "version": 3
      },
      "pygments_lexer": "ipython3",
      "nbconvert_exporter": "python",
      "file_extension": ".py"
    },
    "colab": {
      "provenance": [],
      "include_colab_link": true
    }
  },
  "nbformat_minor": 0,
  "nbformat": 4,
  "cells": [
    {
      "cell_type": "markdown",
      "metadata": {
        "id": "view-in-github",
        "colab_type": "text"
      },
      "source": [
        "<a href=\"https://colab.research.google.com/github/MarpuriSathvik/MLHW_Competition2/blob/main/ML_Competition2.ipynb\" target=\"_parent\"><img src=\"https://colab.research.google.com/assets/colab-badge.svg\" alt=\"Open In Colab\"/></a>"
      ]
    },
    {
      "cell_type": "code",
      "source": [
        "import numpy as np # linear algebra\n",
        "import pandas as pd # data processing, CSV file I/O (e.g. pd.read_csv)\n",
        "import os\n",
        "for dirname, _, filenames in os.walk('/kaggle/input'):\n",
        "    for filename in filenames:\n",
        "        print(os.path.join(dirname, filename))"
      ],
      "metadata": {
        "_uuid": "8f2839f25d086af736a60e9eeb907d3b93b6e0e5",
        "_cell_guid": "b1076dfc-b9ad-4769-8c92-a6c4dae69d19",
        "execution": {
          "iopub.status.busy": "2022-11-28T00:26:50.385556Z",
          "iopub.execute_input": "2022-11-28T00:26:50.386072Z",
          "iopub.status.idle": "2022-11-28T00:26:50.417476Z",
          "shell.execute_reply.started": "2022-11-28T00:26:50.385981Z",
          "shell.execute_reply": "2022-11-28T00:26:50.416673Z"
        },
        "trusted": true,
        "id": "T9ghvokHpk9X",
        "outputId": "8bac69c3-ffef-4330-86e3-01fff3e860c4"
      },
      "execution_count": null,
      "outputs": [
        {
          "name": "stdout",
          "text": "/kaggle/input/spaceship-titanic/sample_submission.csv\n/kaggle/input/spaceship-titanic/train.csv\n/kaggle/input/spaceship-titanic/test.csv\n/kaggle/input/nnpreds/neural3.csv\n",
          "output_type": "stream"
        }
      ]
    },
    {
      "cell_type": "code",
      "source": [
        "PATH = '/kaggle/input/spaceship-titanic'\n",
        "train = pd.read_csv(f'{PATH}/train.csv')\n",
        "test = pd.read_csv(f'{PATH}/test.csv')"
      ],
      "metadata": {
        "execution": {
          "iopub.status.busy": "2022-11-28T00:26:50.419075Z",
          "iopub.execute_input": "2022-11-28T00:26:50.419847Z",
          "iopub.status.idle": "2022-11-28T00:26:50.518588Z",
          "shell.execute_reply.started": "2022-11-28T00:26:50.419812Z",
          "shell.execute_reply": "2022-11-28T00:26:50.517426Z"
        },
        "trusted": true,
        "id": "q88lp2Xnpk9Z"
      },
      "execution_count": null,
      "outputs": []
    },
    {
      "cell_type": "code",
      "source": [
        "train.head()"
      ],
      "metadata": {
        "execution": {
          "iopub.status.busy": "2022-11-28T00:26:50.519873Z",
          "iopub.execute_input": "2022-11-28T00:26:50.520229Z",
          "iopub.status.idle": "2022-11-28T00:26:50.557110Z",
          "shell.execute_reply.started": "2022-11-28T00:26:50.520199Z",
          "shell.execute_reply": "2022-11-28T00:26:50.555941Z"
        },
        "trusted": true,
        "id": "vRcOBKMzpk9Z",
        "outputId": "33f03da0-570e-46b1-813f-0a3b1e40e82d"
      },
      "execution_count": null,
      "outputs": [
        {
          "execution_count": 3,
          "output_type": "execute_result",
          "data": {
            "text/plain": "  PassengerId HomePlanet CryoSleep  Cabin  Destination   Age    VIP  \\\n0     0001_01     Europa     False  B/0/P  TRAPPIST-1e  39.0  False   \n1     0002_01      Earth     False  F/0/S  TRAPPIST-1e  24.0  False   \n2     0003_01     Europa     False  A/0/S  TRAPPIST-1e  58.0   True   \n3     0003_02     Europa     False  A/0/S  TRAPPIST-1e  33.0  False   \n4     0004_01      Earth     False  F/1/S  TRAPPIST-1e  16.0  False   \n\n   RoomService  FoodCourt  ShoppingMall     Spa  VRDeck               Name  \\\n0          0.0        0.0           0.0     0.0     0.0    Maham Ofracculy   \n1        109.0        9.0          25.0   549.0    44.0       Juanna Vines   \n2         43.0     3576.0           0.0  6715.0    49.0      Altark Susent   \n3          0.0     1283.0         371.0  3329.0   193.0       Solam Susent   \n4        303.0       70.0         151.0   565.0     2.0  Willy Santantines   \n\n   Transported  \n0        False  \n1         True  \n2        False  \n3        False  \n4         True  ",
            "text/html": "<div>\n<style scoped>\n    .dataframe tbody tr th:only-of-type {\n        vertical-align: middle;\n    }\n\n    .dataframe tbody tr th {\n        vertical-align: top;\n    }\n\n    .dataframe thead th {\n        text-align: right;\n    }\n</style>\n<table border=\"1\" class=\"dataframe\">\n  <thead>\n    <tr style=\"text-align: right;\">\n      <th></th>\n      <th>PassengerId</th>\n      <th>HomePlanet</th>\n      <th>CryoSleep</th>\n      <th>Cabin</th>\n      <th>Destination</th>\n      <th>Age</th>\n      <th>VIP</th>\n      <th>RoomService</th>\n      <th>FoodCourt</th>\n      <th>ShoppingMall</th>\n      <th>Spa</th>\n      <th>VRDeck</th>\n      <th>Name</th>\n      <th>Transported</th>\n    </tr>\n  </thead>\n  <tbody>\n    <tr>\n      <th>0</th>\n      <td>0001_01</td>\n      <td>Europa</td>\n      <td>False</td>\n      <td>B/0/P</td>\n      <td>TRAPPIST-1e</td>\n      <td>39.0</td>\n      <td>False</td>\n      <td>0.0</td>\n      <td>0.0</td>\n      <td>0.0</td>\n      <td>0.0</td>\n      <td>0.0</td>\n      <td>Maham Ofracculy</td>\n      <td>False</td>\n    </tr>\n    <tr>\n      <th>1</th>\n      <td>0002_01</td>\n      <td>Earth</td>\n      <td>False</td>\n      <td>F/0/S</td>\n      <td>TRAPPIST-1e</td>\n      <td>24.0</td>\n      <td>False</td>\n      <td>109.0</td>\n      <td>9.0</td>\n      <td>25.0</td>\n      <td>549.0</td>\n      <td>44.0</td>\n      <td>Juanna Vines</td>\n      <td>True</td>\n    </tr>\n    <tr>\n      <th>2</th>\n      <td>0003_01</td>\n      <td>Europa</td>\n      <td>False</td>\n      <td>A/0/S</td>\n      <td>TRAPPIST-1e</td>\n      <td>58.0</td>\n      <td>True</td>\n      <td>43.0</td>\n      <td>3576.0</td>\n      <td>0.0</td>\n      <td>6715.0</td>\n      <td>49.0</td>\n      <td>Altark Susent</td>\n      <td>False</td>\n    </tr>\n    <tr>\n      <th>3</th>\n      <td>0003_02</td>\n      <td>Europa</td>\n      <td>False</td>\n      <td>A/0/S</td>\n      <td>TRAPPIST-1e</td>\n      <td>33.0</td>\n      <td>False</td>\n      <td>0.0</td>\n      <td>1283.0</td>\n      <td>371.0</td>\n      <td>3329.0</td>\n      <td>193.0</td>\n      <td>Solam Susent</td>\n      <td>False</td>\n    </tr>\n    <tr>\n      <th>4</th>\n      <td>0004_01</td>\n      <td>Earth</td>\n      <td>False</td>\n      <td>F/1/S</td>\n      <td>TRAPPIST-1e</td>\n      <td>16.0</td>\n      <td>False</td>\n      <td>303.0</td>\n      <td>70.0</td>\n      <td>151.0</td>\n      <td>565.0</td>\n      <td>2.0</td>\n      <td>Willy Santantines</td>\n      <td>True</td>\n    </tr>\n  </tbody>\n</table>\n</div>"
          },
          "metadata": {}
        }
      ]
    },
    {
      "cell_type": "code",
      "source": [
        "train.info()"
      ],
      "metadata": {
        "execution": {
          "iopub.status.busy": "2022-11-28T00:26:50.560304Z",
          "iopub.execute_input": "2022-11-28T00:26:50.561049Z",
          "iopub.status.idle": "2022-11-28T00:26:50.587938Z",
          "shell.execute_reply.started": "2022-11-28T00:26:50.561004Z",
          "shell.execute_reply": "2022-11-28T00:26:50.586717Z"
        },
        "trusted": true,
        "id": "msKx5pKJpk9a",
        "outputId": "6e6ccac4-b0bd-4953-d0bf-4a7a5340efe4"
      },
      "execution_count": null,
      "outputs": [
        {
          "name": "stdout",
          "text": "<class 'pandas.core.frame.DataFrame'>\nRangeIndex: 8693 entries, 0 to 8692\nData columns (total 14 columns):\n #   Column        Non-Null Count  Dtype  \n---  ------        --------------  -----  \n 0   PassengerId   8693 non-null   object \n 1   HomePlanet    8492 non-null   object \n 2   CryoSleep     8476 non-null   object \n 3   Cabin         8494 non-null   object \n 4   Destination   8511 non-null   object \n 5   Age           8514 non-null   float64\n 6   VIP           8490 non-null   object \n 7   RoomService   8512 non-null   float64\n 8   FoodCourt     8510 non-null   float64\n 9   ShoppingMall  8485 non-null   float64\n 10  Spa           8510 non-null   float64\n 11  VRDeck        8505 non-null   float64\n 12  Name          8493 non-null   object \n 13  Transported   8693 non-null   bool   \ndtypes: bool(1), float64(6), object(7)\nmemory usage: 891.5+ KB\n",
          "output_type": "stream"
        }
      ]
    },
    {
      "cell_type": "markdown",
      "source": [
        "## Datatype transformations basic feature engineering"
      ],
      "metadata": {
        "id": "SLSO3XBCpk9a"
      }
    },
    {
      "cell_type": "code",
      "source": [
        "train['Transported'].replace(False, 0, inplace=True)\n",
        "train['Transported'].replace(True, 1, inplace=True)\n",
        "\n",
        "train.Transported = train.Transported.astype(int)\n",
        "\n",
        "train['VIP'].replace(False, 0, inplace=True)\n",
        "train['VIP'].replace(True, 1, inplace=True)\n",
        "test['VIP'].replace(False, 0, inplace=True)\n",
        "test['VIP'].replace(True, 1, inplace=True)\n",
        "\n",
        "test.VIP = test.VIP.astype(\"Int8\")\n",
        "train.VIP = train.VIP.astype(\"Int8\")\n",
        "\n",
        "train.CryoSleep.replace(False, 0, inplace=True)\n",
        "test.CryoSleep.replace(False, 0, inplace=True)\n",
        "\n",
        "train.CryoSleep.replace(True, 1, inplace=True)\n",
        "test.CryoSleep.replace(True, 1, inplace=True)\n",
        "\n",
        "test.CryoSleep = test.CryoSleep.astype(\"Int8\")\n",
        "train.CryoSleep = train.CryoSleep.astype(\"Int8\")"
      ],
      "metadata": {
        "execution": {
          "iopub.status.busy": "2022-11-28T00:26:50.591121Z",
          "iopub.execute_input": "2022-11-28T00:26:50.591513Z",
          "iopub.status.idle": "2022-11-28T00:26:50.628150Z",
          "shell.execute_reply.started": "2022-11-28T00:26:50.591478Z",
          "shell.execute_reply": "2022-11-28T00:26:50.627300Z"
        },
        "trusted": true,
        "id": "boIUkUyQpk9a"
      },
      "execution_count": null,
      "outputs": []
    },
    {
      "cell_type": "code",
      "source": [
        "train[['deck','num', 'side']] = train['Cabin'].str.split('/', expand=True)\n",
        "test[['deck','num', 'side']] = test['Cabin'].str.split('/', expand=True)\n",
        "\n",
        "train.drop('Cabin', axis=1, inplace=True)\n",
        "test.drop('Cabin', axis=1, inplace=True)"
      ],
      "metadata": {
        "execution": {
          "iopub.status.busy": "2022-11-28T00:26:50.629554Z",
          "iopub.execute_input": "2022-11-28T00:26:50.630753Z",
          "iopub.status.idle": "2022-11-28T00:26:50.670461Z",
          "shell.execute_reply.started": "2022-11-28T00:26:50.630707Z",
          "shell.execute_reply": "2022-11-28T00:26:50.669591Z"
        },
        "trusted": true,
        "id": "bqFfiNM-pk9b"
      },
      "execution_count": null,
      "outputs": []
    },
    {
      "cell_type": "code",
      "source": [
        "col_to_sum = ['RoomService', 'FoodCourt', 'ShoppingMall', 'Spa', 'VRDeck']\n",
        "\n",
        "train['SumSpends'] = train[col_to_sum].sum(axis=1)\n",
        "test['SumSpends'] = test[col_to_sum].sum(axis=1)\n",
        "\n",
        "train['MaxSpends'] = train[col_to_sum].max(axis=1)\n",
        "test['MaxSpends'] = test[col_to_sum].max(axis=1)"
      ],
      "metadata": {
        "execution": {
          "iopub.status.busy": "2022-11-28T00:26:50.671779Z",
          "iopub.execute_input": "2022-11-28T00:26:50.672129Z",
          "iopub.status.idle": "2022-11-28T00:26:50.689220Z",
          "shell.execute_reply.started": "2022-11-28T00:26:50.672088Z",
          "shell.execute_reply": "2022-11-28T00:26:50.688069Z"
        },
        "trusted": true,
        "id": "knUVitfEpk9b"
      },
      "execution_count": null,
      "outputs": []
    },
    {
      "cell_type": "code",
      "source": [
        "train['log_spend'] = np.log(train.SumSpends + 1)\n",
        "test['log_spend'] = np.log(test.SumSpends + 1)"
      ],
      "metadata": {
        "execution": {
          "iopub.status.busy": "2022-11-28T00:26:50.690487Z",
          "iopub.execute_input": "2022-11-28T00:26:50.691355Z",
          "iopub.status.idle": "2022-11-28T00:26:50.699155Z",
          "shell.execute_reply.started": "2022-11-28T00:26:50.691314Z",
          "shell.execute_reply": "2022-11-28T00:26:50.698132Z"
        },
        "trusted": true,
        "id": "0Xv7dU12pk9b"
      },
      "execution_count": null,
      "outputs": []
    },
    {
      "cell_type": "code",
      "source": [
        "null_cols = train.isnull().sum().sort_values(ascending=False)\n",
        "null_cols = list(null_cols[null_cols>1].index)"
      ],
      "metadata": {
        "execution": {
          "iopub.status.busy": "2022-11-28T00:26:50.700648Z",
          "iopub.execute_input": "2022-11-28T00:26:50.700948Z",
          "iopub.status.idle": "2022-11-28T00:26:50.714946Z",
          "shell.execute_reply.started": "2022-11-28T00:26:50.700920Z",
          "shell.execute_reply": "2022-11-28T00:26:50.714000Z"
        },
        "trusted": true,
        "id": "cjNsHO7Rpk9b"
      },
      "execution_count": null,
      "outputs": []
    },
    {
      "cell_type": "code",
      "source": [
        "object_cols = [col for col in train.columns if train[col].dtype == 'object' or train[col].dtype == 'category']\n",
        "\n",
        "from sklearn.preprocessing import OrdinalEncoder\n",
        "\n",
        "oc = OrdinalEncoder()\n",
        "\n",
        "df_for_encode = pd.concat([train, test])\n",
        "\n",
        "df_for_encode[object_cols] = df_for_encode[object_cols].astype('category')\n",
        "\n",
        "df_for_encode[object_cols] = oc.fit_transform(df_for_encode[object_cols])\n",
        "\n",
        "del train, test\n",
        "\n",
        "train = df_for_encode.iloc[:8693, :]\n",
        "test = df_for_encode.iloc[8693: , :]\n",
        "\n",
        "del df_for_encode\n",
        "\n",
        "test.drop('Transported', inplace=True, axis=1)"
      ],
      "metadata": {
        "execution": {
          "iopub.status.busy": "2022-11-28T00:26:50.718758Z",
          "iopub.execute_input": "2022-11-28T00:26:50.719426Z",
          "iopub.status.idle": "2022-11-28T00:26:51.932938Z",
          "shell.execute_reply.started": "2022-11-28T00:26:50.719389Z",
          "shell.execute_reply": "2022-11-28T00:26:51.931536Z"
        },
        "trusted": true,
        "id": "bZSPihNdpk9b"
      },
      "execution_count": null,
      "outputs": []
    },
    {
      "cell_type": "code",
      "source": [
        "from sklearn.impute import SimpleImputer\n",
        "from sklearn.compose import ColumnTransformer\n",
        "\n",
        "ct = ColumnTransformer([(\"imp\", SimpleImputer(strategy='mean'), null_cols)])\n",
        "\n",
        "train[null_cols] = ct.fit_transform(train[null_cols])\n",
        "test[null_cols] = ct.transform(test[null_cols])"
      ],
      "metadata": {
        "execution": {
          "iopub.status.busy": "2022-11-28T00:26:51.934471Z",
          "iopub.execute_input": "2022-11-28T00:26:51.934874Z",
          "iopub.status.idle": "2022-11-28T00:26:52.201259Z",
          "shell.execute_reply.started": "2022-11-28T00:26:51.934837Z",
          "shell.execute_reply": "2022-11-28T00:26:52.200355Z"
        },
        "trusted": true,
        "id": "I9DFa_SApk9c"
      },
      "execution_count": null,
      "outputs": []
    },
    {
      "cell_type": "code",
      "source": [
        "train.drop('PassengerId', axis=1, inplace = True)\n",
        "test.drop('PassengerId', axis=1, inplace = True)\n",
        "\n",
        "y_train = train['Transported']\n",
        "X_train = train.drop('Transported', axis=1)\n",
        "X_test = test\n",
        "\n",
        "if X_train.shape[1] == X_test.shape[1]:\n",
        "    print('Shapes are equal. We are ready to train models.')\n",
        "else:\n",
        "    print('There is something wrong in preprocessing steps.')"
      ],
      "metadata": {
        "execution": {
          "iopub.status.busy": "2022-11-28T00:26:52.202743Z",
          "iopub.execute_input": "2022-11-28T00:26:52.203341Z",
          "iopub.status.idle": "2022-11-28T00:26:52.214965Z",
          "shell.execute_reply.started": "2022-11-28T00:26:52.203304Z",
          "shell.execute_reply": "2022-11-28T00:26:52.213573Z"
        },
        "trusted": true,
        "id": "LPubev3Hpk9c",
        "outputId": "92d0a766-3281-4cf8-b411-5fbd65a995bb"
      },
      "execution_count": null,
      "outputs": [
        {
          "name": "stdout",
          "text": "Shapes are equal. We are ready to train models.\n",
          "output_type": "stream"
        }
      ]
    },
    {
      "cell_type": "markdown",
      "source": [
        "# Model Parameter Settings\n",
        "\n",
        "Since training data is small, I did not use advanced tuning approaches.\n",
        "\n",
        "To achieve success from ensemble models, we need diverse models. Subsample(rsm) parameter was important for this setting.\n",
        "\n",
        "Random seeds affects subsample and other parameters. I trained models for 10 different random seeds for robustness of each final model."
      ],
      "metadata": {
        "id": "RIWSp8p-pk9c"
      }
    },
    {
      "cell_type": "code",
      "source": [
        "from catboost import CatBoostClassifier\n",
        "from sklearn.model_selection import StratifiedKFold\n",
        "from sklearn.metrics import accuracy_score\n",
        "\n",
        "cv = StratifiedKFold(n_splits = 4, shuffle=True, random_state=34)\n",
        "fold_accuracy = []\n",
        "for tr_idx, val_idx in cv.split(X_train, y_train):\n",
        "    X_tr, y_tr, X_val, y_val = X_train.iloc[tr_idx], y_train.iloc[tr_idx], X_train.iloc[val_idx], y_train.iloc[val_idx]\n",
        "    model = CatBoostClassifier(eval_metric = 'Accuracy', verbose=0, rsm = 0.82, iterations = 700)\n",
        "    model.fit(X_tr, y_tr)\n",
        "    pred_fold = model.predict(X_val)\n",
        "    fold_accuracy.append(accuracy_score(pred_fold, y_val))\n",
        "\n",
        "print(f'Accuracy = {np.mean(fold_accuracy)}')\n",
        "print(f'fold accuracy: {fold_accuracy}')"
      ],
      "metadata": {
        "execution": {
          "iopub.status.busy": "2022-11-28T00:26:52.216553Z",
          "iopub.execute_input": "2022-11-28T00:26:52.217698Z",
          "iopub.status.idle": "2022-11-28T00:27:07.025420Z",
          "shell.execute_reply.started": "2022-11-28T00:26:52.217621Z",
          "shell.execute_reply": "2022-11-28T00:27:07.024378Z"
        },
        "trusted": true,
        "id": "t7b7AcgUpk9c",
        "outputId": "ec28cfd4-e493-4b5a-9868-5b4a23c74c70"
      },
      "execution_count": null,
      "outputs": [
        {
          "name": "stdout",
          "text": "Accuracy = 0.8135293755299948\nfold accuracy: [0.8026678932842686, 0.8177634606534745, 0.8039576622181316, 0.829728485964105]\n",
          "output_type": "stream"
        }
      ]
    },
    {
      "cell_type": "code",
      "source": [
        "predictions = pd.DataFrame({})\n",
        "for i in range(10):\n",
        "    catb = CatBoostClassifier(eval_metric = 'Accuracy', verbose=0, rsm = 0.82, iterations = 700, random_seed = i*7 + 4)\n",
        "    catb.fit(X_train, y_train)\n",
        "    print(f\"Train accuracy: {accuracy_score(y_train, catb.predict(X_train))}\")\n",
        "    predictions[f\"CATB_{i}\"] = catb.predict_proba(X_test)[:, 1]"
      ],
      "metadata": {
        "execution": {
          "iopub.status.busy": "2022-11-28T00:27:07.026548Z",
          "iopub.execute_input": "2022-11-28T00:27:07.027068Z",
          "iopub.status.idle": "2022-11-28T00:27:48.519272Z",
          "shell.execute_reply.started": "2022-11-28T00:27:07.027035Z",
          "shell.execute_reply": "2022-11-28T00:27:48.517760Z"
        },
        "trusted": true,
        "id": "hwqPOa7Qpk9c",
        "outputId": "4e601492-69c6-42fb-a640-aeb3b69a69b6"
      },
      "execution_count": null,
      "outputs": [
        {
          "name": "stdout",
          "text": "Train accuracy: 0.882319107327735\nTrain accuracy: 0.8836995283561486\nTrain accuracy: 0.8847348441274588\nTrain accuracy: 0.8855400897273669\nTrain accuracy: 0.8851949844702635\nTrain accuracy: 0.8839295985275509\nTrain accuracy: 0.8838145634418497\nTrain accuracy: 0.8836995283561486\nTrain accuracy: 0.8836995283561486\nTrain accuracy: 0.8855400897273669\n",
          "output_type": "stream"
        }
      ]
    },
    {
      "cell_type": "code",
      "source": [
        "from xgboost import XGBClassifier\n",
        "fold_accuracy = []\n",
        "for tr_idx, val_idx in cv.split(X_train, y_train):\n",
        "    X_tr, y_tr, X_val, y_val = X_train.iloc[tr_idx], y_train.iloc[tr_idx], X_train.iloc[val_idx], y_train.iloc[val_idx]\n",
        "    model = XGBClassifier(max_depth = 4, subsample = 0.75, n_estimators = 550, learning_rate = 0.03, min_child_weight = 0.9, random_state = 1)\n",
        "    model.fit(X_tr, y_tr)\n",
        "    pred_fold = model.predict(X_val)\n",
        "    fold_accuracy.append(accuracy_score(pred_fold, y_val))\n",
        "\n",
        "print(f'Accuracy = {np.mean(fold_accuracy)}')\n",
        "print(f'fold accuracy: {fold_accuracy}')"
      ],
      "metadata": {
        "execution": {
          "iopub.status.busy": "2022-11-28T00:27:48.521323Z",
          "iopub.execute_input": "2022-11-28T00:27:48.521904Z",
          "iopub.status.idle": "2022-11-28T00:28:03.987333Z",
          "shell.execute_reply.started": "2022-11-28T00:27:48.521850Z",
          "shell.execute_reply": "2022-11-28T00:28:03.985802Z"
        },
        "trusted": true,
        "id": "qCXBYwGRpk9c",
        "outputId": "8e3f1d7c-1629-49ee-d2db-9bb288198d61"
      },
      "execution_count": null,
      "outputs": [
        {
          "name": "stdout",
          "text": "Accuracy = 0.8073176658759698\nfold accuracy: [0.7948482060717571, 0.8191440404970087, 0.7975149562816383, 0.8177634606534745]\n",
          "output_type": "stream"
        }
      ]
    },
    {
      "cell_type": "code",
      "source": [
        "for i in range(10):\n",
        "    xgb = XGBClassifier(max_depth = 4, subsample = 0.75, n_estimators = 550, learning_rate = 0.03, min_child_weight = 0.9, random_state = i*2 + 1)\n",
        "    xgb.fit(X_train, y_train)\n",
        "    print(f\"Train Accuracy: {accuracy_score(y_train, xgb.predict(X_train))}\")\n",
        "    predictions[f\"XGB_{i}\"] = xgb.predict_proba(X_test)[:, 1]"
      ],
      "metadata": {
        "execution": {
          "iopub.status.busy": "2022-11-28T00:28:03.992447Z",
          "iopub.execute_input": "2022-11-28T00:28:03.992902Z",
          "iopub.status.idle": "2022-11-28T00:28:48.671325Z",
          "shell.execute_reply.started": "2022-11-28T00:28:03.992866Z",
          "shell.execute_reply": "2022-11-28T00:28:48.670301Z"
        },
        "trusted": true,
        "id": "LkE8gZQ8pk9c",
        "outputId": "cf8a4908-b39c-4950-cda5-ce08f5cad879"
      },
      "execution_count": null,
      "outputs": [
        {
          "name": "stdout",
          "text": "Train Accuracy: 0.8564362130449787\nTrain Accuracy: 0.8547106867594616\nTrain Accuracy: 0.8549407569308639\nTrain Accuracy: 0.853330265731048\nTrain Accuracy: 0.8554008972736684\nTrain Accuracy: 0.8549407569308639\nTrain Accuracy: 0.8556309674450707\nTrain Accuracy: 0.8551708271022662\nTrain Accuracy: 0.8556309674450707\nTrain Accuracy: 0.8544806165880594\n",
          "output_type": "stream"
        }
      ]
    },
    {
      "cell_type": "code",
      "source": [
        "from lightgbm import LGBMClassifier\n",
        "fold_accuracy = []\n",
        "for tr_idx, val_idx in cv.split(X_train, y_train):\n",
        "    X_tr, y_tr, X_val, y_val = X_train.iloc[tr_idx], y_train.iloc[tr_idx], X_train.iloc[val_idx], y_train.iloc[val_idx]\n",
        "    model = LGBMClassifier(min_child_weight=0.8, random_state=1, n_estimators=600, learning_rate = 0.01, subsample=0.7, subsample_freq=1, colsample_bytree = 0.85)\n",
        "    model.fit(X_tr, y_tr)\n",
        "    pred_fold = model.predict(X_val)\n",
        "    fold_accuracy.append(accuracy_score(pred_fold, y_val))\n",
        "\n",
        "print(f'Accuracy = {np.mean(fold_accuracy)}')\n",
        "print(f'fold accuracy: {fold_accuracy}')"
      ],
      "metadata": {
        "execution": {
          "iopub.status.busy": "2022-11-28T00:28:48.675582Z",
          "iopub.execute_input": "2022-11-28T00:28:48.676385Z",
          "iopub.status.idle": "2022-11-28T00:28:54.509279Z",
          "shell.execute_reply.started": "2022-11-28T00:28:48.676343Z",
          "shell.execute_reply": "2022-11-28T00:28:54.508347Z"
        },
        "trusted": true,
        "id": "C3PPJ78epk9d",
        "outputId": "13e9999a-f021-46c8-b005-0ff621e09cd5"
      },
      "execution_count": null,
      "outputs": [
        {
          "output_type": "display_data",
          "data": {
            "text/plain": "<IPython.core.display.HTML object>",
            "text/html": "<style type='text/css'>\n.datatable table.frame { margin-bottom: 0; }\n.datatable table.frame thead { border-bottom: none; }\n.datatable table.frame tr.coltypes td {  color: #FFFFFF;  line-height: 6px;  padding: 0 0.5em;}\n.datatable .bool    { background: #DDDD99; }\n.datatable .object  { background: #565656; }\n.datatable .int     { background: #5D9E5D; }\n.datatable .float   { background: #4040CC; }\n.datatable .str     { background: #CC4040; }\n.datatable .time    { background: #40CC40; }\n.datatable .row_index {  background: var(--jp-border-color3);  border-right: 1px solid var(--jp-border-color0);  color: var(--jp-ui-font-color3);  font-size: 9px;}\n.datatable .frame tbody td { text-align: left; }\n.datatable .frame tr.coltypes .row_index {  background: var(--jp-border-color0);}\n.datatable th:nth-child(2) { padding-left: 12px; }\n.datatable .hellipsis {  color: var(--jp-cell-editor-border-color);}\n.datatable .vellipsis {  background: var(--jp-layout-color0);  color: var(--jp-cell-editor-border-color);}\n.datatable .na {  color: var(--jp-cell-editor-border-color);  font-size: 80%;}\n.datatable .sp {  opacity: 0.25;}\n.datatable .footer { font-size: 9px; }\n.datatable .frame_dimensions {  background: var(--jp-border-color3);  border-top: 1px solid var(--jp-border-color0);  color: var(--jp-ui-font-color3);  display: inline-block;  opacity: 0.6;  padding: 1px 10px 1px 5px;}\n</style>\n"
          },
          "metadata": {}
        },
        {
          "name": "stdout",
          "text": "Accuracy = 0.8104228592016007\nfold accuracy: [0.8045078196872125, 0.8117809479981593, 0.8062586286240221, 0.8191440404970087]\n",
          "output_type": "stream"
        }
      ]
    },
    {
      "cell_type": "code",
      "source": [
        "for i in range(10):\n",
        "    lgb = LGBMClassifier(min_child_weight=0.8, random_state=i*5 + 6, n_estimators=600, learning_rate = 0.01, subsample=0.7, subsample_freq=1, colsample_bytree = 0.85)\n",
        "    lgb.fit(X_train, y_train)\n",
        "    print(f\"Train Accuracy: {accuracy_score(y_train, lgb.predict(X_train))}\")\n",
        "    predictions[f\"LGB_{i}\"] = lgb.predict_proba(X_test)[:, 1]"
      ],
      "metadata": {
        "execution": {
          "iopub.status.busy": "2022-11-28T00:28:54.510863Z",
          "iopub.execute_input": "2022-11-28T00:28:54.511569Z",
          "iopub.status.idle": "2022-11-28T00:29:12.148960Z",
          "shell.execute_reply.started": "2022-11-28T00:28:54.511530Z",
          "shell.execute_reply": "2022-11-28T00:29:12.147921Z"
        },
        "trusted": true,
        "id": "NtlprCAIpk9d",
        "outputId": "f0d06397-c503-4e4d-d434-639da52e5fd5"
      },
      "execution_count": null,
      "outputs": [
        {
          "name": "stdout",
          "text": "Train Accuracy: 0.8620729322443346\nTrain Accuracy: 0.8632232831013459\nTrain Accuracy: 0.8631082480156448\nTrain Accuracy: 0.8634533532727482\nTrain Accuracy: 0.8631082480156448\nTrain Accuracy: 0.864143563786955\nTrain Accuracy: 0.8631082480156448\nTrain Accuracy: 0.8603474059588174\nTrain Accuracy: 0.8637984585298516\nTrain Accuracy: 0.8631082480156448\n",
          "output_type": "stream"
        }
      ]
    },
    {
      "cell_type": "markdown",
      "source": [
        "# Neural Network"
      ],
      "metadata": {
        "id": "vgzGjm8-pk9d"
      }
    },
    {
      "cell_type": "markdown",
      "source": [
        "I used all functions and NN model baseline from this notebook:\n",
        "\n",
        "https://www.kaggle.com/code/pniaz20/spaceship-titanic-v001\n",
        "\n",
        "Credit to Pouya P.Niaz.\n",
        "\n",
        "Things I changed: \n",
        "I built the model for 10 times with different seed.\n",
        "\n",
        "In some seeds, I used percentile transformation instead of standart scaler.\n",
        "\n",
        "In some seeds, I increased units in beginning layers.\n",
        "\n",
        "In some seeds, I tweaked L2 regularizer."
      ],
      "metadata": {
        "id": "hVEt9039pk9d"
      }
    },
    {
      "cell_type": "code",
      "source": [
        "nn_pred_data = pd.read_csv('/kaggle/input/nnpreds/neural3.csv')"
      ],
      "metadata": {
        "execution": {
          "iopub.status.busy": "2022-11-28T00:29:12.153060Z",
          "iopub.execute_input": "2022-11-28T00:29:12.155828Z",
          "iopub.status.idle": "2022-11-28T00:29:12.183088Z",
          "shell.execute_reply.started": "2022-11-28T00:29:12.155777Z",
          "shell.execute_reply": "2022-11-28T00:29:12.181522Z"
        },
        "trusted": true,
        "id": "F1W2WpMbpk9d"
      },
      "execution_count": null,
      "outputs": []
    },
    {
      "cell_type": "code",
      "source": [
        "predictions"
      ],
      "metadata": {
        "execution": {
          "iopub.status.busy": "2022-11-28T00:29:12.184810Z",
          "iopub.execute_input": "2022-11-28T00:29:12.185228Z",
          "iopub.status.idle": "2022-11-28T00:29:12.226173Z",
          "shell.execute_reply.started": "2022-11-28T00:29:12.185178Z",
          "shell.execute_reply": "2022-11-28T00:29:12.224987Z"
        },
        "trusted": true,
        "id": "PfFiiyDFpk9e",
        "outputId": "ecfc86e9-3e71-4932-e951-33b54014b2e4"
      },
      "execution_count": null,
      "outputs": [
        {
          "execution_count": 20,
          "output_type": "execute_result",
          "data": {
            "text/plain": "        CATB_0    CATB_1    CATB_2    CATB_3    CATB_4    CATB_5    CATB_6  \\\n0     0.497882  0.510471  0.506180  0.506108  0.508351  0.493178  0.488667   \n1     0.008502  0.009995  0.009930  0.009653  0.010118  0.010085  0.012606   \n2     0.987550  0.987205  0.989135  0.989356  0.988090  0.991690  0.983654   \n3     0.958154  0.978107  0.975138  0.963491  0.982041  0.965070  0.958512   \n4     0.441696  0.404784  0.467650  0.445773  0.437000  0.428519  0.398749   \n...        ...       ...       ...       ...       ...       ...       ...   \n4272  0.567760  0.567971  0.579312  0.568902  0.574212  0.567316  0.570723   \n4273  0.392227  0.337847  0.354892  0.359964  0.354514  0.355536  0.340354   \n4274  0.927754  0.933207  0.922581  0.920993  0.920594  0.929109  0.913531   \n4275  0.812156  0.816479  0.771336  0.790336  0.821816  0.823036  0.810554   \n4276  0.594107  0.614047  0.610574  0.580736  0.586234  0.601814  0.598211   \n\n        CATB_7    CATB_8    CATB_9  ...     LGB_0     LGB_1     LGB_2  \\\n0     0.499579  0.516247  0.500527  ...  0.503036  0.484318  0.504573   \n1     0.009440  0.009513  0.007029  ...  0.027696  0.023711  0.028096   \n2     0.991016  0.988097  0.988860  ...  0.986077  0.985884  0.986530   \n3     0.961243  0.977743  0.976171  ...  0.979216  0.976977  0.977401   \n4     0.498477  0.381234  0.459468  ...  0.555487  0.559281  0.559480   \n...        ...       ...       ...  ...       ...       ...       ...   \n4272  0.609953  0.569184  0.577594  ...  0.582040  0.569525  0.563353   \n4273  0.346836  0.316497  0.383349  ...  0.347620  0.345438  0.348926   \n4274  0.923110  0.935889  0.911757  ...  0.948987  0.954905  0.951652   \n4275  0.869337  0.825411  0.852225  ...  0.797946  0.754107  0.773352   \n4276  0.590511  0.596168  0.594888  ...  0.609768  0.588461  0.599158   \n\n         LGB_3     LGB_4     LGB_5     LGB_6     LGB_7     LGB_8     LGB_9  \n0     0.488331  0.473934  0.500993  0.483331  0.506074  0.495155  0.478201  \n1     0.025474  0.026661  0.024078  0.025711  0.025755  0.026196  0.026953  \n2     0.985316  0.985799  0.985372  0.984801  0.986628  0.985154  0.985810  \n3     0.975618  0.977401  0.977937  0.979969  0.978059  0.980742  0.977690  \n4     0.514732  0.555586  0.538672  0.555605  0.566818  0.522659  0.570601  \n...        ...       ...       ...       ...       ...       ...       ...  \n4272  0.570644  0.557133  0.576950  0.563570  0.567219  0.559196  0.555340  \n4273  0.313218  0.311667  0.348509  0.372706  0.358807  0.342450  0.334307  \n4274  0.947809  0.946062  0.942756  0.956614  0.955638  0.952143  0.948141  \n4275  0.763374  0.747373  0.740391  0.755998  0.764890  0.761909  0.757847  \n4276  0.592723  0.589737  0.584475  0.590924  0.586225  0.600869  0.600745  \n\n[4277 rows x 30 columns]",
            "text/html": "<div>\n<style scoped>\n    .dataframe tbody tr th:only-of-type {\n        vertical-align: middle;\n    }\n\n    .dataframe tbody tr th {\n        vertical-align: top;\n    }\n\n    .dataframe thead th {\n        text-align: right;\n    }\n</style>\n<table border=\"1\" class=\"dataframe\">\n  <thead>\n    <tr style=\"text-align: right;\">\n      <th></th>\n      <th>CATB_0</th>\n      <th>CATB_1</th>\n      <th>CATB_2</th>\n      <th>CATB_3</th>\n      <th>CATB_4</th>\n      <th>CATB_5</th>\n      <th>CATB_6</th>\n      <th>CATB_7</th>\n      <th>CATB_8</th>\n      <th>CATB_9</th>\n      <th>...</th>\n      <th>LGB_0</th>\n      <th>LGB_1</th>\n      <th>LGB_2</th>\n      <th>LGB_3</th>\n      <th>LGB_4</th>\n      <th>LGB_5</th>\n      <th>LGB_6</th>\n      <th>LGB_7</th>\n      <th>LGB_8</th>\n      <th>LGB_9</th>\n    </tr>\n  </thead>\n  <tbody>\n    <tr>\n      <th>0</th>\n      <td>0.497882</td>\n      <td>0.510471</td>\n      <td>0.506180</td>\n      <td>0.506108</td>\n      <td>0.508351</td>\n      <td>0.493178</td>\n      <td>0.488667</td>\n      <td>0.499579</td>\n      <td>0.516247</td>\n      <td>0.500527</td>\n      <td>...</td>\n      <td>0.503036</td>\n      <td>0.484318</td>\n      <td>0.504573</td>\n      <td>0.488331</td>\n      <td>0.473934</td>\n      <td>0.500993</td>\n      <td>0.483331</td>\n      <td>0.506074</td>\n      <td>0.495155</td>\n      <td>0.478201</td>\n    </tr>\n    <tr>\n      <th>1</th>\n      <td>0.008502</td>\n      <td>0.009995</td>\n      <td>0.009930</td>\n      <td>0.009653</td>\n      <td>0.010118</td>\n      <td>0.010085</td>\n      <td>0.012606</td>\n      <td>0.009440</td>\n      <td>0.009513</td>\n      <td>0.007029</td>\n      <td>...</td>\n      <td>0.027696</td>\n      <td>0.023711</td>\n      <td>0.028096</td>\n      <td>0.025474</td>\n      <td>0.026661</td>\n      <td>0.024078</td>\n      <td>0.025711</td>\n      <td>0.025755</td>\n      <td>0.026196</td>\n      <td>0.026953</td>\n    </tr>\n    <tr>\n      <th>2</th>\n      <td>0.987550</td>\n      <td>0.987205</td>\n      <td>0.989135</td>\n      <td>0.989356</td>\n      <td>0.988090</td>\n      <td>0.991690</td>\n      <td>0.983654</td>\n      <td>0.991016</td>\n      <td>0.988097</td>\n      <td>0.988860</td>\n      <td>...</td>\n      <td>0.986077</td>\n      <td>0.985884</td>\n      <td>0.986530</td>\n      <td>0.985316</td>\n      <td>0.985799</td>\n      <td>0.985372</td>\n      <td>0.984801</td>\n      <td>0.986628</td>\n      <td>0.985154</td>\n      <td>0.985810</td>\n    </tr>\n    <tr>\n      <th>3</th>\n      <td>0.958154</td>\n      <td>0.978107</td>\n      <td>0.975138</td>\n      <td>0.963491</td>\n      <td>0.982041</td>\n      <td>0.965070</td>\n      <td>0.958512</td>\n      <td>0.961243</td>\n      <td>0.977743</td>\n      <td>0.976171</td>\n      <td>...</td>\n      <td>0.979216</td>\n      <td>0.976977</td>\n      <td>0.977401</td>\n      <td>0.975618</td>\n      <td>0.977401</td>\n      <td>0.977937</td>\n      <td>0.979969</td>\n      <td>0.978059</td>\n      <td>0.980742</td>\n      <td>0.977690</td>\n    </tr>\n    <tr>\n      <th>4</th>\n      <td>0.441696</td>\n      <td>0.404784</td>\n      <td>0.467650</td>\n      <td>0.445773</td>\n      <td>0.437000</td>\n      <td>0.428519</td>\n      <td>0.398749</td>\n      <td>0.498477</td>\n      <td>0.381234</td>\n      <td>0.459468</td>\n      <td>...</td>\n      <td>0.555487</td>\n      <td>0.559281</td>\n      <td>0.559480</td>\n      <td>0.514732</td>\n      <td>0.555586</td>\n      <td>0.538672</td>\n      <td>0.555605</td>\n      <td>0.566818</td>\n      <td>0.522659</td>\n      <td>0.570601</td>\n    </tr>\n    <tr>\n      <th>...</th>\n      <td>...</td>\n      <td>...</td>\n      <td>...</td>\n      <td>...</td>\n      <td>...</td>\n      <td>...</td>\n      <td>...</td>\n      <td>...</td>\n      <td>...</td>\n      <td>...</td>\n      <td>...</td>\n      <td>...</td>\n      <td>...</td>\n      <td>...</td>\n      <td>...</td>\n      <td>...</td>\n      <td>...</td>\n      <td>...</td>\n      <td>...</td>\n      <td>...</td>\n      <td>...</td>\n    </tr>\n    <tr>\n      <th>4272</th>\n      <td>0.567760</td>\n      <td>0.567971</td>\n      <td>0.579312</td>\n      <td>0.568902</td>\n      <td>0.574212</td>\n      <td>0.567316</td>\n      <td>0.570723</td>\n      <td>0.609953</td>\n      <td>0.569184</td>\n      <td>0.577594</td>\n      <td>...</td>\n      <td>0.582040</td>\n      <td>0.569525</td>\n      <td>0.563353</td>\n      <td>0.570644</td>\n      <td>0.557133</td>\n      <td>0.576950</td>\n      <td>0.563570</td>\n      <td>0.567219</td>\n      <td>0.559196</td>\n      <td>0.555340</td>\n    </tr>\n    <tr>\n      <th>4273</th>\n      <td>0.392227</td>\n      <td>0.337847</td>\n      <td>0.354892</td>\n      <td>0.359964</td>\n      <td>0.354514</td>\n      <td>0.355536</td>\n      <td>0.340354</td>\n      <td>0.346836</td>\n      <td>0.316497</td>\n      <td>0.383349</td>\n      <td>...</td>\n      <td>0.347620</td>\n      <td>0.345438</td>\n      <td>0.348926</td>\n      <td>0.313218</td>\n      <td>0.311667</td>\n      <td>0.348509</td>\n      <td>0.372706</td>\n      <td>0.358807</td>\n      <td>0.342450</td>\n      <td>0.334307</td>\n    </tr>\n    <tr>\n      <th>4274</th>\n      <td>0.927754</td>\n      <td>0.933207</td>\n      <td>0.922581</td>\n      <td>0.920993</td>\n      <td>0.920594</td>\n      <td>0.929109</td>\n      <td>0.913531</td>\n      <td>0.923110</td>\n      <td>0.935889</td>\n      <td>0.911757</td>\n      <td>...</td>\n      <td>0.948987</td>\n      <td>0.954905</td>\n      <td>0.951652</td>\n      <td>0.947809</td>\n      <td>0.946062</td>\n      <td>0.942756</td>\n      <td>0.956614</td>\n      <td>0.955638</td>\n      <td>0.952143</td>\n      <td>0.948141</td>\n    </tr>\n    <tr>\n      <th>4275</th>\n      <td>0.812156</td>\n      <td>0.816479</td>\n      <td>0.771336</td>\n      <td>0.790336</td>\n      <td>0.821816</td>\n      <td>0.823036</td>\n      <td>0.810554</td>\n      <td>0.869337</td>\n      <td>0.825411</td>\n      <td>0.852225</td>\n      <td>...</td>\n      <td>0.797946</td>\n      <td>0.754107</td>\n      <td>0.773352</td>\n      <td>0.763374</td>\n      <td>0.747373</td>\n      <td>0.740391</td>\n      <td>0.755998</td>\n      <td>0.764890</td>\n      <td>0.761909</td>\n      <td>0.757847</td>\n    </tr>\n    <tr>\n      <th>4276</th>\n      <td>0.594107</td>\n      <td>0.614047</td>\n      <td>0.610574</td>\n      <td>0.580736</td>\n      <td>0.586234</td>\n      <td>0.601814</td>\n      <td>0.598211</td>\n      <td>0.590511</td>\n      <td>0.596168</td>\n      <td>0.594888</td>\n      <td>...</td>\n      <td>0.609768</td>\n      <td>0.588461</td>\n      <td>0.599158</td>\n      <td>0.592723</td>\n      <td>0.589737</td>\n      <td>0.584475</td>\n      <td>0.590924</td>\n      <td>0.586225</td>\n      <td>0.600869</td>\n      <td>0.600745</td>\n    </tr>\n  </tbody>\n</table>\n<p>4277 rows × 30 columns</p>\n</div>"
          },
          "metadata": {}
        }
      ]
    },
    {
      "cell_type": "code",
      "source": [
        "cat_preds = predictions.iloc[:, :10].mean(axis=1)\n",
        "xgb_preds = predictions.iloc[:,10:20].mean(axis=1)\n",
        "lgb_preds = predictions.iloc[:, 20:].mean(axis=1)\n",
        "nn_preds = nn_pred_data.mean(axis=1)"
      ],
      "metadata": {
        "execution": {
          "iopub.status.busy": "2022-11-28T00:29:12.227726Z",
          "iopub.execute_input": "2022-11-28T00:29:12.228185Z",
          "iopub.status.idle": "2022-11-28T00:29:12.243307Z",
          "shell.execute_reply.started": "2022-11-28T00:29:12.228148Z",
          "shell.execute_reply": "2022-11-28T00:29:12.242009Z"
        },
        "trusted": true,
        "id": "w1Gxh3WNpk9e"
      },
      "execution_count": null,
      "outputs": []
    },
    {
      "cell_type": "markdown",
      "source": [
        "XGB, LGBM, and CatBoost models are very similar by their nature. For diversification, we used a higher weight for NN model."
      ],
      "metadata": {
        "id": "c1e9TI16pk9e"
      }
    },
    {
      "cell_type": "code",
      "source": [
        "final_preds = cat_preds * (1/6) + nn_preds * (1/2) + lgb_preds * (1/6) + xgb_preds * (1/6)"
      ],
      "metadata": {
        "execution": {
          "iopub.status.busy": "2022-11-28T00:29:12.244943Z",
          "iopub.execute_input": "2022-11-28T00:29:12.245399Z",
          "iopub.status.idle": "2022-11-28T00:29:12.253097Z",
          "shell.execute_reply.started": "2022-11-28T00:29:12.245360Z",
          "shell.execute_reply": "2022-11-28T00:29:12.251892Z"
        },
        "trusted": true,
        "id": "OJeV-E7Ppk9e"
      },
      "execution_count": null,
      "outputs": []
    },
    {
      "cell_type": "code",
      "source": [
        "sample = pd.read_csv(f'{PATH}/sample_submission.csv')\n",
        "\n",
        "sample.Transported = final_preds > 0.5\n",
        "sample.to_csv(\"weighted_ensemble.csv\", index = False)"
      ],
      "metadata": {
        "execution": {
          "iopub.status.busy": "2022-11-28T00:29:12.254945Z",
          "iopub.execute_input": "2022-11-28T00:29:12.255295Z",
          "iopub.status.idle": "2022-11-28T00:29:12.288208Z",
          "shell.execute_reply.started": "2022-11-28T00:29:12.255265Z",
          "shell.execute_reply": "2022-11-28T00:29:12.287030Z"
        },
        "trusted": true,
        "id": "vemaYPZIpk9e"
      },
      "execution_count": null,
      "outputs": []
    }
  ]
}